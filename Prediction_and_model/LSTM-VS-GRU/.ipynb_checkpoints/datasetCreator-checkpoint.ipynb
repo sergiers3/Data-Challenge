{
 "cells": [
  {
   "cell_type": "code",
   "execution_count": 74,
   "metadata": {},
   "outputs": [],
   "source": [
    "import pandas as pd\n",
    "import plotly.plotly as py\n",
    "import plotly.offline as offline\n",
    "import plotly.graph_objs as go\n",
    "import matplotlib.pyplot as plt\n",
    "import plotly.graph_objs as go"
   ]
  },
  {
   "cell_type": "markdown",
   "metadata": {},
   "source": [
    "### Read datasets"
   ]
  },
  {
   "cell_type": "code",
   "execution_count": 75,
   "metadata": {},
   "outputs": [],
   "source": [
    "flow = pd.read_csv(\"/Users/sergiers/Desktop/CLASE/BDMA/TUe/Capita_selecta/waterschap-aa-en-maas_sewage/sewer_data/PUMPdata_pump_aarle-rixtel_flow-level_1.5years/flow/carpeta sin título/4110/GBS_AR.RG4110_Instellingen_FT510_Debietmeting.Q.csv\", delimiter=\";\", decimal=\",\", dtype={'level': float, 'flow': float})\n",
    "level = pd.read_csv(\"/Users/sergiers/Desktop/CLASE/BDMA/TUe/Capita_selecta/waterschap-aa-en-maas_sewage/sewer_data/PUMPdata_pump_aarle-rixtel_flow-level_1.5years/flow/carpeta sin título/4110/GBS_AR.RG4110_Instellingen_LT610_Niveaumeting.Q.csv\", delimiter=\";\", decimal=\",\", dtype={'level': float, 'flow': float})\n",
    "rain = pd.read_csv(\"/Users/sergiers/Desktop/CLASE/BDMA/TUe/Capita_selecta/waterschap-aa-en-maas_sewage/sewer_data/PUMPdata_pump_aarle-rixtel_flow-level_1.5years/flow/carpeta sin título/4110/4110-Lieshout.csv\", delimiter=\";\", decimal=\",\", dtype={'level': float, 'flow': float})"
   ]
  },
  {
   "cell_type": "code",
   "execution_count": 76,
   "metadata": {},
   "outputs": [],
   "source": [
    "#Preprocess:\n",
    "#Flow:\n",
    "flow[\"TimeStamp\"] = pd.to_datetime(flow['TimeStamp'], format='%d-%m-%Y %H:%M:%S')\n",
    "flow.index = flow[\"TimeStamp\"]\n",
    "flow[\"flow\"] = flow[\"Value\"]\n",
    "flow = flow[[\"flow\"]]\n",
    "\n",
    "#level:\n",
    "level[\"TimeStamp\"] = pd.to_datetime(level['TimeStamp'], format='%d-%m-%Y %H:%M:%S')\n",
    "level.index = level[\"TimeStamp\"]\n",
    "level[\"level\"] = level[\"Value\"]\n",
    "level = level[[\"level\"]]\n",
    "\n",
    "#Rain:\n",
    "rain[\"Eind\"] = pd.to_datetime(rain['Eind'], format='%d.%m.%y %H:%M')\n",
    "rain.index = rain[\"Eind\"]\n",
    "rain = rain[[\"VOLUME\", \"WET\"]]"
   ]
  },
  {
   "cell_type": "markdown",
   "metadata": {},
   "source": [
    "### Resample data:"
   ]
  },
  {
   "cell_type": "code",
   "execution_count": 77,
   "metadata": {},
   "outputs": [],
   "source": [
    "level = level.resample('60T').mean()\n",
    "flow = flow.resample('60T').mean()"
   ]
  },
  {
   "cell_type": "markdown",
   "metadata": {},
   "source": [
    "### Join Datasets"
   ]
  },
  {
   "cell_type": "code",
   "execution_count": 78,
   "metadata": {},
   "outputs": [],
   "source": [
    "#Inner join Datasets\n",
    "flowlevel = flow.join(level, how='inner')\n",
    "dataset = flowlevel.join(rain, how='inner')"
   ]
  },
  {
   "cell_type": "markdown",
   "metadata": {},
   "source": [
    "### Fix Dataset:"
   ]
  },
  {
   "cell_type": "code",
   "execution_count": 79,
   "metadata": {},
   "outputs": [],
   "source": [
    "# Remove NaN?\n",
    "dataset = dataset.dropna()"
   ]
  },
  {
   "cell_type": "code",
   "execution_count": 80,
   "metadata": {},
   "outputs": [],
   "source": [
    "#Fill NaN with Mean?\n",
    "#dataset = dataset.fillna(flow.mean())"
   ]
  },
  {
   "cell_type": "code",
   "execution_count": 81,
   "metadata": {},
   "outputs": [],
   "source": [
    "# Remove Zeros?\n",
    "dataset = dataset[dataset[\"flow\"] != 0]\n",
    "dataset = dataset[dataset[\"level\"] != 0]"
   ]
  },
  {
   "cell_type": "markdown",
   "metadata": {},
   "source": [
    "### Data info:"
   ]
  },
  {
   "cell_type": "code",
   "execution_count": 84,
   "metadata": {},
   "outputs": [
    {
     "data": {
      "text/plain": [
       "flow      6391\n",
       "level     6391\n",
       "VOLUME    6391\n",
       "WET       6391\n",
       "dtype: int64"
      ]
     },
     "execution_count": 84,
     "metadata": {},
     "output_type": "execute_result"
    }
   ],
   "source": [
    "dataset.count()"
   ]
  },
  {
   "cell_type": "code",
   "execution_count": 85,
   "metadata": {},
   "outputs": [
    {
     "data": {
      "text/html": [
       "<div>\n",
       "<style scoped>\n",
       "    .dataframe tbody tr th:only-of-type {\n",
       "        vertical-align: middle;\n",
       "    }\n",
       "\n",
       "    .dataframe tbody tr th {\n",
       "        vertical-align: top;\n",
       "    }\n",
       "\n",
       "    .dataframe thead th {\n",
       "        text-align: right;\n",
       "    }\n",
       "</style>\n",
       "<table border=\"1\" class=\"dataframe\">\n",
       "  <thead>\n",
       "    <tr style=\"text-align: right;\">\n",
       "      <th></th>\n",
       "      <th>flow</th>\n",
       "      <th>level</th>\n",
       "      <th>VOLUME</th>\n",
       "      <th>WET</th>\n",
       "    </tr>\n",
       "  </thead>\n",
       "  <tbody>\n",
       "    <tr>\n",
       "      <th>2017-08-07</th>\n",
       "      <td>154.00249</td>\n",
       "      <td>12.052341</td>\n",
       "      <td>0.0</td>\n",
       "      <td>0</td>\n",
       "    </tr>\n",
       "  </tbody>\n",
       "</table>\n",
       "</div>"
      ],
      "text/plain": [
       "                 flow      level  VOLUME  WET\n",
       "2017-08-07  154.00249  12.052341     0.0    0"
      ]
     },
     "execution_count": 85,
     "metadata": {},
     "output_type": "execute_result"
    }
   ],
   "source": [
    "dataset.head(1)"
   ]
  },
  {
   "cell_type": "code",
   "execution_count": 86,
   "metadata": {},
   "outputs": [
    {
     "data": {
      "text/html": [
       "<div>\n",
       "<style scoped>\n",
       "    .dataframe tbody tr th:only-of-type {\n",
       "        vertical-align: middle;\n",
       "    }\n",
       "\n",
       "    .dataframe tbody tr th {\n",
       "        vertical-align: top;\n",
       "    }\n",
       "\n",
       "    .dataframe thead th {\n",
       "        text-align: right;\n",
       "    }\n",
       "</style>\n",
       "<table border=\"1\" class=\"dataframe\">\n",
       "  <thead>\n",
       "    <tr style=\"text-align: right;\">\n",
       "      <th></th>\n",
       "      <th>flow</th>\n",
       "      <th>level</th>\n",
       "      <th>VOLUME</th>\n",
       "      <th>WET</th>\n",
       "    </tr>\n",
       "  </thead>\n",
       "  <tbody>\n",
       "    <tr>\n",
       "      <th>2018-08-06 23:00:00</th>\n",
       "      <td>138.631828</td>\n",
       "      <td>11.568146</td>\n",
       "      <td>0.0</td>\n",
       "      <td>0</td>\n",
       "    </tr>\n",
       "  </tbody>\n",
       "</table>\n",
       "</div>"
      ],
      "text/plain": [
       "                           flow      level  VOLUME  WET\n",
       "2018-08-06 23:00:00  138.631828  11.568146     0.0    0"
      ]
     },
     "execution_count": 86,
     "metadata": {},
     "output_type": "execute_result"
    }
   ],
   "source": [
    "dataset.tail(1)"
   ]
  },
  {
   "cell_type": "markdown",
   "metadata": {},
   "source": [
    "### Print in chart:"
   ]
  },
  {
   "cell_type": "code",
   "execution_count": 82,
   "metadata": {},
   "outputs": [],
   "source": [
    "flowdata = go.Scatter(\n",
    "          x=dataset.index,\n",
    "          y=dataset['flow'],\n",
    "          name='flow')\n",
    "\n",
    "leveldata = go.Scatter(\n",
    "          x=dataset.index,\n",
    "          y=dataset['level'],\n",
    "          name='Level',\n",
    "          yaxis='y2')\n",
    "\n",
    "raindata = go.Scatter(\n",
    "          x=dataset.index,\n",
    "          y=dataset['VOLUME'],\n",
    "          name='Rain',\n",
    "          yaxis='y3')"
   ]
  },
  {
   "cell_type": "code",
   "execution_count": null,
   "metadata": {},
   "outputs": [],
   "source": []
  },
  {
   "cell_type": "code",
   "execution_count": null,
   "metadata": {},
   "outputs": [],
   "source": []
  },
  {
   "cell_type": "code",
   "execution_count": 13,
   "metadata": {},
   "outputs": [],
   "source": [
    "dataset.to_csv(\"data.csv\", sep=',')\n"
   ]
  },
  {
   "cell_type": "code",
   "execution_count": null,
   "metadata": {},
   "outputs": [],
   "source": []
  },
  {
   "cell_type": "code",
   "execution_count": null,
   "metadata": {},
   "outputs": [],
   "source": []
  }
 ],
 "metadata": {
  "kernelspec": {
   "display_name": "Python 3",
   "language": "python",
   "name": "python3"
  },
  "language_info": {
   "codemirror_mode": {
    "name": "ipython",
    "version": 3
   },
   "file_extension": ".py",
   "mimetype": "text/x-python",
   "name": "python",
   "nbconvert_exporter": "python",
   "pygments_lexer": "ipython3",
   "version": "3.6.4"
  }
 },
 "nbformat": 4,
 "nbformat_minor": 2
}
