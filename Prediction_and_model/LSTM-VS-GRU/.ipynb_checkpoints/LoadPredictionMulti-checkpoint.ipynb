{
 "cells": [
  {
   "cell_type": "code",
   "execution_count": 238,
   "metadata": {},
   "outputs": [],
   "source": [
    "import pandas as pd\n",
    "\n",
    "from pandas import DataFrame\n",
    "from pandas import read_csv\n",
    "from keras.models import Sequential\n",
    "from keras.layers import LSTM, GRU\n",
    "from keras.layers import Dense\n",
    "from matplotlib import pyplot\n",
    "from sklearn.metrics import mean_absolute_error\n",
    "\n",
    "from sklearn.preprocessing import StandardScaler\n",
    "#dataset = read_csv('data2.csv', header=0, index_col=0).iloc[::-1]\n",
    "train = read_csv('data1.csv', header=0, index_col=0).iloc[::-1]\n",
    "test = read_csv('data3.csv', header=0, index_col=0).iloc[::-1]\n",
    "\n"
   ]
  },
  {
   "cell_type": "code",
   "execution_count": 239,
   "metadata": {},
   "outputs": [],
   "source": [
    "train = train.sort_index(ascending=True)\n",
    "test = test.sort_index(ascending=True)"
   ]
  },
  {
   "cell_type": "code",
   "execution_count": 240,
   "metadata": {},
   "outputs": [],
   "source": [
    "#dataset = dataset[[\"flow\", \"level\"]]\n",
    "\n",
    "train = train[[\"flow\", \"level\"]]\n",
    "test = test[[\"flow\", \"level\"]]"
   ]
  },
  {
   "cell_type": "code",
   "execution_count": 241,
   "metadata": {},
   "outputs": [],
   "source": [
    "predict = \"flow\"\n",
    "period = 3"
   ]
  },
  {
   "cell_type": "code",
   "execution_count": 242,
   "metadata": {},
   "outputs": [],
   "source": [
    "flowstd = dataset[\"flow\"].std()\n",
    "flowmean = dataset[\"flow\"].mean()\n",
    "levelstd = dataset[\"level\"].mean()\n",
    "levelmean = dataset[\"level\"].std()"
   ]
  },
  {
   "cell_type": "code",
   "execution_count": 243,
   "metadata": {},
   "outputs": [
    {
     "data": {
      "text/html": [
       "<div>\n",
       "<style scoped>\n",
       "    .dataframe tbody tr th:only-of-type {\n",
       "        vertical-align: middle;\n",
       "    }\n",
       "\n",
       "    .dataframe tbody tr th {\n",
       "        vertical-align: top;\n",
       "    }\n",
       "\n",
       "    .dataframe thead th {\n",
       "        text-align: right;\n",
       "    }\n",
       "</style>\n",
       "<table border=\"1\" class=\"dataframe\">\n",
       "  <thead>\n",
       "    <tr style=\"text-align: right;\">\n",
       "      <th></th>\n",
       "      <th>flow</th>\n",
       "      <th>level</th>\n",
       "    </tr>\n",
       "  </thead>\n",
       "  <tbody>\n",
       "    <tr>\n",
       "      <th>2018-08-06 23:12:00</th>\n",
       "      <td>-0.485394</td>\n",
       "      <td>-2.663319</td>\n",
       "    </tr>\n",
       "  </tbody>\n",
       "</table>\n",
       "</div>"
      ],
      "text/plain": [
       "                         flow     level\n",
       "2018-08-06 23:12:00 -0.485394 -2.663319"
      ]
     },
     "execution_count": 243,
     "metadata": {},
     "output_type": "execute_result"
    }
   ],
   "source": [
    "dataset.head(1)"
   ]
  },
  {
   "cell_type": "markdown",
   "metadata": {},
   "source": [
    "### Normalizing with Standard Scaler"
   ]
  },
  {
   "cell_type": "code",
   "execution_count": 244,
   "metadata": {
    "scrolled": true
   },
   "outputs": [],
   "source": [
    "#dataset[dataset.columns] = StandardScaler().fit_transform(dataset)\n",
    "\n",
    "train[train.columns] = StandardScaler().fit_transform(train)\n",
    "test[test.columns] = StandardScaler().fit_transform(test)\n"
   ]
  },
  {
   "cell_type": "markdown",
   "metadata": {},
   "source": [
    "### Shifting Dataset and Creating a Dataset for Model Training and Testing"
   ]
  },
  {
   "cell_type": "code",
   "execution_count": 245,
   "metadata": {
    "scrolled": true
   },
   "outputs": [],
   "source": [
    "# To avoid \"ValueError: Input arrays should have the same number of samples as target \n",
    "# arrays. Found 2095 input samples and 2090 target samples.\" error\n",
    "#dataset_shifted = dataset.shift(-5)\n",
    "#dataset = dataset.iloc[:-5]\n",
    "#dataset_shifted = dataset_shifted.iloc[:-5]\n",
    "\n",
    "\n",
    "train_shifted = train.shift(-5)\n",
    "train = train.iloc[:-5]\n",
    "train_shifted = train_shifted.iloc[:-5]\n",
    "\n",
    "test_shifted = test.shift(-5)\n",
    "test = test.iloc[:-5]\n",
    "test_shifted = test_shifted.iloc[:-5]"
   ]
  },
  {
   "cell_type": "markdown",
   "metadata": {},
   "source": [
    "### Dividing the Dataset for Training and Testing"
   ]
  },
  {
   "cell_type": "code",
   "execution_count": 246,
   "metadata": {},
   "outputs": [],
   "source": [
    "#train_dataset = dataset.iloc[:-period]\n",
    "#train_dataset_shifted = dataset_shifted.iloc[:-period]\n",
    "\n",
    "#test_dataset = dataset.iloc[-period:]\n",
    "#test_dataset_shifted = dataset_shifted.iloc[-period:]\n",
    "\n",
    "train_dataset = train.iloc[:-period]\n",
    "train_dataset_shifted = train_shifted.iloc[:-period]\n",
    "\n",
    "test_dataset = test.iloc[-period:]\n",
    "test_dataset_shifted = test_shifted.iloc[-period:]"
   ]
  },
  {
   "cell_type": "markdown",
   "metadata": {},
   "source": [
    "### Finding Optimal Paramers"
   ]
  },
  {
   "cell_type": "code",
   "execution_count": 247,
   "metadata": {},
   "outputs": [
    {
     "data": {
      "text/plain": [
       "'from sklearn.model_selection import GridSearchCV\\nfrom keras.wrappers.scikit_learn import KerasClassifier\\nimport copy\\n\\ndef fit_lstm_tuning(activation, recurrent_activation, loss, optimizer):\\n    model_lstm = Sequential()\\n    model_lstm.add(LSTM(1, input_shape=(1, dataset.shape[1]), activation = activation, recurrent_activation = recurrent_activation))\\n    model_lstm.add(Dense(1))\\n    model_lstm.compile(loss=loss, optimizer=optimizer, metrics=[\"accuracy\"])\\n    return model_lstm\\n\\nactivations = [\\'softmax\\', \\'elu\\', \\'selu\\', \\'softplus\\', \\'softsign\\', \\'relu\\', \\'tanh\\', \\'sigmoid\\', \\'hard_sigmoid\\', \\'linear\\']\\nrecurrent_activations = [\\'softmax\\', \\'elu\\', \\'selu\\', \\'softplus\\', \\'softsign\\', \\'relu\\', \\'tanh\\', \\'sigmoid\\', \\'hard_sigmoid\\', \\'linear\\']\\n\\noptimizers = [\\'SGD\\', \\'RMSprop\\', \\'Adagrad\\', \\'Adadelta\\', \\'Adam\\', \\'Adamax\\', \\'Nadam\\']\\nlosses = [\\'mean_squared_error\\', \\'mean_absolute_error\\', \\'mean_absolute_percentage_error\\', \\'mean_squared_logarithmic_error\\', \\'squared_hinge\\', \\'hinge\\', \\'categorical_hinge\\', \\'logcosh\\', \\'categorical_crossentropy\\', \\'sparse_categorical_crossentropy\\', \\'binary_crossentropy\\', \\'kullback_leibler_divergence\\', \\'poisson\\', \\'cosine_proximity\\']\\n\\nX = copy.deepcopy(train_dataset.values.reshape((train_dataset.shape[0], 1, train_dataset.shape[1])))\\nY = copy.deepcopy(train_dataset_shifted[\\'flow\\'])\\n\\nmodel = KerasClassifier(build_fn=fit_lstm_tuning)\\n\\nparam_grid = dict(activation = activations, recurrent_activation = recurrent_activations, optimizer = optimizers, loss = losses)\\n\\ngrid = GridSearchCV(estimator=model, param_grid=param_grid, n_jobs=1)\\ngrid_result = grid.fit(X,Y)\\n\\nprint(\"Best: %f using %s\" % (grid_result.best_score_, grid_result.best_params_))'"
      ]
     },
     "execution_count": 247,
     "metadata": {},
     "output_type": "execute_result"
    }
   ],
   "source": [
    "'''from sklearn.model_selection import GridSearchCV\n",
    "from keras.wrappers.scikit_learn import KerasClassifier\n",
    "import copy\n",
    "\n",
    "def fit_lstm_tuning(activation, recurrent_activation, loss, optimizer):\n",
    "    model_lstm = Sequential()\n",
    "    model_lstm.add(LSTM(1, input_shape=(1, dataset.shape[1]), activation = activation, recurrent_activation = recurrent_activation))\n",
    "    model_lstm.add(Dense(1))\n",
    "    model_lstm.compile(loss=loss, optimizer=optimizer, metrics=[\"accuracy\"])\n",
    "    return model_lstm\n",
    "\n",
    "activations = ['softmax', 'elu', 'selu', 'softplus', 'softsign', 'relu', 'tanh', 'sigmoid', 'hard_sigmoid', 'linear']\n",
    "recurrent_activations = ['softmax', 'elu', 'selu', 'softplus', 'softsign', 'relu', 'tanh', 'sigmoid', 'hard_sigmoid', 'linear']\n",
    "\n",
    "optimizers = ['SGD', 'RMSprop', 'Adagrad', 'Adadelta', 'Adam', 'Adamax', 'Nadam']\n",
    "losses = ['mean_squared_error', 'mean_absolute_error', 'mean_absolute_percentage_error', 'mean_squared_logarithmic_error', 'squared_hinge', 'hinge', 'categorical_hinge', 'logcosh', 'categorical_crossentropy', 'sparse_categorical_crossentropy', 'binary_crossentropy', 'kullback_leibler_divergence', 'poisson', 'cosine_proximity']\n",
    "\n",
    "X = copy.deepcopy(train_dataset.values.reshape((train_dataset.shape[0], 1, train_dataset.shape[1])))\n",
    "Y = copy.deepcopy(train_dataset_shifted['flow'])\n",
    "\n",
    "model = KerasClassifier(build_fn=fit_lstm_tuning)\n",
    "\n",
    "param_grid = dict(activation = activations, recurrent_activation = recurrent_activations, optimizer = optimizers, loss = losses)\n",
    "\n",
    "grid = GridSearchCV(estimator=model, param_grid=param_grid, n_jobs=1)\n",
    "grid_result = grid.fit(X,Y)\n",
    "\n",
    "print(\"Best: %f using %s\" % (grid_result.best_score_, grid_result.best_params_))'''"
   ]
  },
  {
   "cell_type": "markdown",
   "metadata": {},
   "source": [
    "### Training LSTM"
   ]
  },
  {
   "cell_type": "code",
   "execution_count": 248,
   "metadata": {
    "scrolled": true
   },
   "outputs": [
    {
     "name": "stdout",
     "output_type": "stream",
     "text": [
      "Epoch 1/1\n",
      "264243/264243 [==============================] - 31s 117us/step - loss: 0.2528\n"
     ]
    },
    {
     "data": {
      "text/plain": [
       "<keras.callbacks.History at 0x1a66a136d8>"
      ]
     },
     "execution_count": 248,
     "metadata": {},
     "output_type": "execute_result"
    }
   ],
   "source": [
    "'''model_lstm = Sequential()\n",
    "model_lstm.add(LSTM(1, input_shape=(1, dataset.shape[1])))\n",
    "model_lstm.add(Dense(1))\n",
    "model_lstm.compile(loss='mae', optimizer='adam')\n",
    "\n",
    "#model_lstm.fit(train_dataset.values.reshape((train_dataset.shape[0], 1, train_dataset.shape[1])), train_dataset_shifted['system.load.5'])\n",
    "model_lstm.fit(train_dataset.values.reshape((train_dataset.shape[0], 1, train_dataset.shape[1])), train_dataset_shifted[predict])\n",
    "'''\n",
    "\n",
    "model_lstm = Sequential()\n",
    "model_lstm.add(LSTM(1, input_shape=(1, train.shape[1])))\n",
    "model_lstm.add(Dense(1))\n",
    "model_lstm.compile(loss='mae', optimizer='adam')\n",
    "\n",
    "#model_lstm.fit(train_dataset.values.reshape((train_dataset.shape[0], 1, train_dataset.shape[1])), train_dataset_shifted['system.load.5'])\n",
    "model_lstm.fit(train_dataset.values.reshape((train_dataset.shape[0], 1, train_dataset.shape[1])), train_dataset_shifted[predict])\n"
   ]
  },
  {
   "cell_type": "markdown",
   "metadata": {},
   "source": [
    "### Training GRU"
   ]
  },
  {
   "cell_type": "code",
   "execution_count": 249,
   "metadata": {},
   "outputs": [
    {
     "name": "stdout",
     "output_type": "stream",
     "text": [
      "Epoch 1/1\n",
      "264243/264243 [==============================] - 28s 104us/step - loss: 0.2455\n"
     ]
    },
    {
     "data": {
      "text/plain": [
       "<keras.callbacks.History at 0x1a6b79f9e8>"
      ]
     },
     "execution_count": 249,
     "metadata": {},
     "output_type": "execute_result"
    }
   ],
   "source": [
    "'''model_gru = Sequential()\n",
    "model_gru.add(GRU(1, input_shape=(1, dataset.shape[1])))\n",
    "model_gru.add(Dense(1))\n",
    "model_gru.compile(loss='mae', optimizer='adam')\n",
    "\n",
    "model_gru.fit(train_dataset.values.reshape((train_dataset.shape[0], 1, train_dataset.shape[1])), train_dataset_shifted[predict])\n",
    "#model_gru.fit(train_dataset.values.reshape((train_dataset.shape[0], 1, train_dataset.shape[1])), train_dataset_shifted['system.load.5'])\n",
    "'''\n",
    "model_gru = Sequential()\n",
    "model_gru.add(GRU(1, input_shape=(1, train.shape[1])))\n",
    "model_gru.add(Dense(1))\n",
    "model_gru.compile(loss='mae', optimizer='adam')\n",
    "\n",
    "model_gru.fit(train_dataset.values.reshape((train_dataset.shape[0], 1, train_dataset.shape[1])), train_dataset_shifted[predict])\n"
   ]
  },
  {
   "cell_type": "markdown",
   "metadata": {},
   "source": [
    "### Predicting Values"
   ]
  },
  {
   "cell_type": "code",
   "execution_count": 250,
   "metadata": {},
   "outputs": [],
   "source": [
    "test_dataset_predicted_lstm = model_lstm.predict(test_dataset.values.reshape((test_dataset.shape[0], 1, test_dataset.shape[1])))\n",
    "test_dataset_predicted_gru = model_gru.predict(test_dataset.values.reshape((test_dataset.shape[0], 1, test_dataset.shape[1])))"
   ]
  },
  {
   "cell_type": "code",
   "execution_count": 251,
   "metadata": {},
   "outputs": [
    {
     "data": {
      "text/plain": [
       "array([1.6716707], dtype=float32)"
      ]
     },
     "execution_count": 251,
     "metadata": {},
     "output_type": "execute_result"
    }
   ],
   "source": [
    "test_dataset_predicted_lstm[0]"
   ]
  },
  {
   "cell_type": "code",
   "execution_count": 252,
   "metadata": {},
   "outputs": [
    {
     "data": {
      "text/plain": [
       "'test_dataset_shifted[\"flow\"] = test_dataset_shifted[\"flow\"]*flowstd + flowmean\\ntest_dataset_shifted[\"level\"] = test_dataset_shifted[\"level\"]*flowstd + flowmean\\n\\ntest_dataset_predicted_lstm[\"flow\"] = test_dataset_predicted_lstm[\"flow\"]*flowstd + flowmean\\ntest_dataset_predicted_lstm[\"level\"] = test_dataset_predicted_lstm[\"level\"]*flowstd + flowmean\\n\\ntest_dataset_predicted_gru[\"flow\"] = test_dataset_predicted_gru[\"flow\"]*flowstd + flowmean\\ntest_dataset_predicted_gru[\"level\"] = test_dataset_predicted_gru[\"level\"]*flowstd + flowmean'"
      ]
     },
     "execution_count": 252,
     "metadata": {},
     "output_type": "execute_result"
    }
   ],
   "source": [
    "#Denormalize\n",
    "\n",
    "'''test_dataset_shifted[\"flow\"] = test_dataset_shifted[\"flow\"]*flowstd + flowmean\n",
    "test_dataset_shifted[\"level\"] = test_dataset_shifted[\"level\"]*flowstd + flowmean\n",
    "\n",
    "test_dataset_predicted_lstm[\"flow\"] = test_dataset_predicted_lstm[\"flow\"]*flowstd + flowmean\n",
    "test_dataset_predicted_lstm[\"level\"] = test_dataset_predicted_lstm[\"level\"]*flowstd + flowmean\n",
    "\n",
    "test_dataset_predicted_gru[\"flow\"] = test_dataset_predicted_gru[\"flow\"]*flowstd + flowmean\n",
    "test_dataset_predicted_gru[\"level\"] = test_dataset_predicted_gru[\"level\"]*flowstd + flowmean'''"
   ]
  },
  {
   "cell_type": "code",
   "execution_count": 253,
   "metadata": {},
   "outputs": [
    {
     "data": {
      "image/png": "[encoded data removed]",
      "text/plain": [
       "<Figure size 432x288 with 1 Axes>"
      ]
     },
     "metadata": {},
     "output_type": "display_data"
    }
   ],
   "source": [
    "#FLOW\n",
    "#pyplot.plot(test_dataset_shifted['system.load.5'], label='real')\n",
    "pyplot.plot(test_dataset_shifted[predict], label='real')\n",
    "\n",
    "pyplot.plot(test_dataset_predicted_lstm, label='lstm')\n",
    "pyplot.plot(test_dataset_predicted_gru, label='gru')\n",
    "pyplot.legend()\n",
    "pyplot.show()"
   ]
  },
  {
   "cell_type": "code",
   "execution_count": 254,
   "metadata": {},
   "outputs": [
    {
     "data": {
      "text/plain": [
       "1.377571671524468"
      ]
     },
     "execution_count": 254,
     "metadata": {},
     "output_type": "execute_result"
    }
   ],
   "source": [
    "mean_absolute_error(test_dataset_predicted_lstm, test_dataset_shifted[predict])\n",
    "#wet FLOW 900: 0.36204572012082975\n",
    "#Dry Level 900: 0.5438161096344533\n",
    "\n",
    "#wet flow 24: 0.26827723467821224 "
   ]
  },
  {
   "cell_type": "code",
   "execution_count": 255,
   "metadata": {},
   "outputs": [
    {
     "data": {
      "text/plain": [
       "1.367535640119337"
      ]
     },
     "execution_count": 255,
     "metadata": {},
     "output_type": "execute_result"
    }
   ],
   "source": [
    "mean_absolute_error(test_dataset_predicted_gru, test_dataset_shifted[predict])\n",
    "#wet FLOW: 0.41532524929552234\n",
    "#Dry Level: 0.5959518309415479\n",
    "\n",
    "#wet flow 24: 0.3184401570797566"
   ]
  },
  {
   "cell_type": "code",
   "execution_count": null,
   "metadata": {},
   "outputs": [],
   "source": []
  },
  {
   "cell_type": "code",
   "execution_count": null,
   "metadata": {},
   "outputs": [],
   "source": []
  },
  {
   "cell_type": "code",
   "execution_count": null,
   "metadata": {},
   "outputs": [],
   "source": []
  }
 ],
 "metadata": {
  "kernelspec": {
   "display_name": "Python 3",
   "language": "python",
   "name": "python3"
  },
  "language_info": {
   "codemirror_mode": {
    "name": "ipython",
    "version": 3
   },
   "file_extension": ".py",
   "mimetype": "text/x-python",
   "name": "python",
   "nbconvert_exporter": "python",
   "pygments_lexer": "ipython3",
   "version": "3.6.4"
  }
 },
 "nbformat": 4,
 "nbformat_minor": 2
}
