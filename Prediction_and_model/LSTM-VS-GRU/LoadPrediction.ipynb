{
 "cells": [
  {
   "cell_type": "code",
   "execution_count": null,
   "metadata": {},
   "outputs": [],
   "source": [
    "import pandas as pd\n",
    "import plotly.graph_objs as go\n",
    "import plotly.plotly as py\n",
    "import plotly.offline as offline\n",
    "import numpy as np\n",
    "from pandas import DataFrame\n",
    "from pandas import read_csv\n",
    "from keras.models import Sequential\n",
    "from keras.layers import LSTM, GRU\n",
    "from keras.layers import Dense\n",
    "from matplotlib import pyplot\n",
    "from sklearn.metrics import mean_absolute_error\n",
    "from sklearn.metrics import mean_squared_error\n",
    "from sklearn.preprocessing import StandardScaler\n",
    "\n",
    "pumpNumber = \"4110\"\n",
    "dset = \"dry\"\n",
    "predict = \"flow\"\n",
    "period = 1440\n",
    "timewindow = 5\n",
    "\n",
    "dataset = read_csv(pumpNumber+ \"set\"+dset+\".csv\", header=0, index_col=0).iloc[::-1]\n",
    "#dataset = read_csv(\"/Users/sergiers/Desktop/Lieshout.csv\", header=0, index_col=0).iloc[::-1]"
   ]
  },
  {
   "cell_type": "code",
   "execution_count": null,
   "metadata": {},
   "outputs": [],
   "source": [
    "dataset = dataset.sort_index(ascending=True)"
   ]
  },
  {
   "cell_type": "code",
   "execution_count": null,
   "metadata": {},
   "outputs": [],
   "source": [
    "#For dataset splitting if necessary\n",
    "#dataset = dataset.loc[:'2018-06-08 17:00']"
   ]
  },
  {
   "cell_type": "code",
   "execution_count": null,
   "metadata": {},
   "outputs": [],
   "source": [
    "if(dset == \"wet\"):\n",
    "    dataset = dataset[[\"flow\", \"level\", \"WeekNumber\", \"DayOfWeek\", \"VOLUME\" ]]\n",
    "else:\n",
    "    dataset = dataset[[\"flow\", \"level\", \"WeekNumber\", \"DayOfWeek\" ]]"
   ]
  },
  {
   "cell_type": "code",
   "execution_count": null,
   "metadata": {},
   "outputs": [],
   "source": [
    "flowstd = dataset[\"flow\"].std()\n",
    "flowmean = dataset[\"flow\"].mean()\n",
    "#levelstd = dataset[\"level\"].mean()\n",
    "#levelmean = dataset[\"level\"].std()\n",
    "\n",
    "flowmax = dataset.max()\n",
    "flowmin = dataset.min()"
   ]
  },
  {
   "cell_type": "markdown",
   "metadata": {},
   "source": [
    "### Plot original data:"
   ]
  },
  {
   "cell_type": "code",
   "execution_count": null,
   "metadata": {},
   "outputs": [],
   "source": [
    "realdata = go.Scatter(\n",
    "          x=dataset.index,\n",
    "          y=dataset['flow'],\n",
    "          name='real')\n",
    "\n",
    "\n",
    "data = [realdata]\n",
    "\n",
    "\n",
    "\n",
    "layout = go.Layout(\n",
    "    title='Original data',\n",
    "    xaxis=dict(\n",
    "        rangeselector=dict(\n",
    "            buttons=list([\n",
    "                dict(count=1,\n",
    "                     label='1d',\n",
    "                     step='day',\n",
    "                     stepmode='backward'),\n",
    "                dict(count=7,\n",
    "                     label='1w',\n",
    "                     step='day',\n",
    "                     stepmode='backward'),\n",
    "                dict(count=1,\n",
    "                     label='1m',\n",
    "                     step='month',\n",
    "                     stepmode='backward'),\n",
    "                dict(step='all')\n",
    "            ])\n",
    "        ),        \n",
    "        rangeslider=dict(\n",
    "            visible = True\n",
    "        ),\n",
    "        type='date'\n",
    "    ),\n",
    "    yaxis=dict(\n",
    "        title='Real'\n",
    "    )\n",
    ")\n",
    "fig = dict(data=data, layout=layout)\n",
    "offline.plot(fig, filename=pumpNumber+\"-\"+predict+\"-\"+dset+\"-original.html\")"
   ]
  },
  {
   "cell_type": "markdown",
   "metadata": {},
   "source": [
    "### Normalizing with Standard Scaler"
   ]
  },
  {
   "cell_type": "code",
   "execution_count": null,
   "metadata": {
    "scrolled": true
   },
   "outputs": [],
   "source": [
    "dataset[dataset.columns] = StandardScaler().fit_transform(dataset)"
   ]
  },
  {
   "cell_type": "markdown",
   "metadata": {},
   "source": [
    "### Shifting Dataset"
   ]
  },
  {
   "cell_type": "code",
   "execution_count": null,
   "metadata": {
    "scrolled": true
   },
   "outputs": [],
   "source": [
    "# To avoid \"ValueError: Input arrays should have the same number of samples as target \n",
    "# arrays. Found 2095 input samples and 2090 target samples.\" error\n",
    "dataset_shifted = dataset.shift(-timewindow)\n",
    "dataset = dataset.iloc[:-timewindow]\n",
    "dataset_shifted = dataset_shifted.iloc[:-timewindow]"
   ]
  },
  {
   "cell_type": "markdown",
   "metadata": {},
   "source": [
    "### Dividing the Dataset for Training and Testing"
   ]
  },
  {
   "cell_type": "code",
   "execution_count": null,
   "metadata": {},
   "outputs": [],
   "source": [
    "train_dataset = dataset.iloc[:-period]\n",
    "train_dataset_shifted = dataset_shifted.iloc[:-period]\n",
    "\n",
    "test_dataset = dataset.iloc[-period:]\n",
    "test_dataset_shifted = dataset_shifted.iloc[-period:]"
   ]
  },
  {
   "cell_type": "markdown",
   "metadata": {},
   "source": [
    "### Training LSTM"
   ]
  },
  {
   "cell_type": "code",
   "execution_count": null,
   "metadata": {
    "scrolled": true
   },
   "outputs": [],
   "source": [
    "model_lstm = Sequential()\n",
    "model_lstm.add(LSTM(1, input_shape=(1, dataset.shape[1])))\n",
    "model_lstm.add(Dense(1))\n",
    "model_lstm.compile(loss='mae', optimizer='adam')\n",
    "\n",
    "#model_lstm.fit(train_dataset.values.reshape((train_dataset.shape[0], 1, train_dataset.shape[1])), train_dataset_shifted['system.load.5'])\n",
    "model_lstm.fit(train_dataset.values.reshape((train_dataset.shape[0], 1, train_dataset.shape[1])), train_dataset_shifted[predict])"
   ]
  },
  {
   "cell_type": "markdown",
   "metadata": {},
   "source": [
    "### Training GRU"
   ]
  },
  {
   "cell_type": "code",
   "execution_count": null,
   "metadata": {},
   "outputs": [],
   "source": [
    "model_gru = Sequential()\n",
    "model_gru.add(GRU(1, input_shape=(1, dataset.shape[1])))\n",
    "model_gru.add(Dense(1))\n",
    "model_gru.compile(loss='mae', optimizer='adam')\n",
    "\n",
    "model_gru.fit(train_dataset.values.reshape((train_dataset.shape[0], 1, train_dataset.shape[1])), train_dataset_shifted[predict])"
   ]
  },
  {
   "cell_type": "markdown",
   "metadata": {},
   "source": [
    "### Predicting Values"
   ]
  },
  {
   "cell_type": "code",
   "execution_count": null,
   "metadata": {},
   "outputs": [],
   "source": [
    "test_dataset_predicted_lstm = model_lstm.predict(test_dataset.values.reshape((test_dataset.shape[0], 1, test_dataset.shape[1])))\n",
    "test_dataset_predicted_gru = model_gru.predict(test_dataset.values.reshape((test_dataset.shape[0], 1, test_dataset.shape[1])))"
   ]
  },
  {
   "cell_type": "markdown",
   "metadata": {},
   "source": [
    "### Calculate Error:"
   ]
  },
  {
   "cell_type": "code",
   "execution_count": null,
   "metadata": {},
   "outputs": [],
   "source": [
    "mean_absolute_error(test_dataset_shifted[predict], test_dataset_predicted_lstm)"
   ]
  },
  {
   "cell_type": "code",
   "execution_count": null,
   "metadata": {},
   "outputs": [],
   "source": [
    "mean_absolute_error(test_dataset_predicted_gru, test_dataset_shifted[predict])"
   ]
  },
  {
   "cell_type": "markdown",
   "metadata": {},
   "source": [
    "### De-Shift:"
   ]
  },
  {
   "cell_type": "code",
   "execution_count": null,
   "metadata": {},
   "outputs": [],
   "source": [
    "result = pd.DataFrame()\n",
    "lstm = pd.DataFrame()\n",
    "gru = pd.DataFrame()\n",
    "\n",
    "lstmtempArray = []\n",
    "for idx, val in enumerate(test_dataset_predicted_lstm):\n",
    "    lstmtempArray.append(val[0])\n",
    "    \n",
    "grutempArray = []\n",
    "for idx, val in enumerate(test_dataset_predicted_gru):\n",
    "    grutempArray.append(val[0])\n",
    "    \n",
    "lstm = pd.concat([pd.DataFrame([val], columns=['lstm']) for idx, val in enumerate(lstmtempArray)], ignore_index=True)\n",
    "gru = pd.concat([pd.DataFrame([val], columns=['gru']) for idx, val in enumerate(grutempArray)], ignore_index=True)\n",
    "\n",
    "result['real'] = test_dataset_shifted[predict]\n",
    "\n",
    "\n",
    "#deshift:\n",
    "#lstm=lstm.iloc[timewindow:]\n",
    "#gru=gru.iloc[timewindow:]\n",
    "#result = result.iloc[:-timewindow]"
   ]
  },
  {
   "cell_type": "markdown",
   "metadata": {},
   "source": [
    "### Recalculate error with deshifting:"
   ]
  },
  {
   "cell_type": "code",
   "execution_count": null,
   "metadata": {},
   "outputs": [],
   "source": [
    "mean_absolute_error(result['real'], lstm[\"lstm\"])\n"
   ]
  },
  {
   "cell_type": "code",
   "execution_count": null,
   "metadata": {},
   "outputs": [],
   "source": [
    "mean_absolute_error(gru[\"gru\"], result['real'])\n"
   ]
  },
  {
   "cell_type": "markdown",
   "metadata": {},
   "source": [
    "### Plot with normalized values:"
   ]
  },
  {
   "cell_type": "code",
   "execution_count": null,
   "metadata": {},
   "outputs": [],
   "source": [
    "#FLOW\n",
    "#pyplot.plot(test_dataset_shifted[predict], label='real')\n",
    "\n",
    "#pyplot.plot(test_dataset_predicted_lstm, label='lstm')\n",
    "#pyplot.plot(test_dataset_predicted_gru, label='gru')\n",
    "#pyplot.legend()\n",
    "#pyplot.show()\n",
    "\n",
    "\n",
    "realdata = go.Scatter(\n",
    "          x=result.index,\n",
    "          y=result['real'],\n",
    "          name='real')\n",
    "\n",
    "lstmdata = go.Scatter(\n",
    "          x=result.index,\n",
    "          y=lstm[\"lstm\"],\n",
    "          name='lstm',\n",
    "          yaxis='y2')\n",
    "\n",
    "grudata = go.Scatter(\n",
    "          x=result.index,\n",
    "          y=gru[\"gru\"],\n",
    "          name='gru',\n",
    "          yaxis='y2')\n",
    "\n",
    "\n",
    "data = [realdata,lstmdata,grudata]\n",
    "\n",
    "\n",
    "\n",
    "layout = go.Layout(\n",
    "    title='Prediction error normalized',\n",
    "    xaxis=dict(\n",
    "        rangeselector=dict(\n",
    "            buttons=list([\n",
    "                dict(count=1,\n",
    "                     label='1d',\n",
    "                     step='day',\n",
    "                     stepmode='backward'),\n",
    "                dict(count=7,\n",
    "                     label='1w',\n",
    "                     step='day',\n",
    "                     stepmode='backward'),\n",
    "                dict(count=1,\n",
    "                     label='1m',\n",
    "                     step='month',\n",
    "                     stepmode='backward'),\n",
    "                dict(step='all')\n",
    "            ])\n",
    "        ),        \n",
    "        rangeslider=dict(\n",
    "            visible = True\n",
    "        ),\n",
    "        type='date'\n",
    "    ),\n",
    "    yaxis=dict(\n",
    "        title='Real'\n",
    "    ),\n",
    "    yaxis2=dict(\n",
    "        title='Lstm',\n",
    "        overlaying='y',\n",
    "        side='right'\n",
    "    ),\n",
    "    yaxis3=dict(\n",
    "        title='Gru',\n",
    "        overlaying='y',\n",
    "        side='right'\n",
    "    )\n",
    ")\n",
    "fig = dict(data=data, layout=layout)\n",
    "offline.plot(fig, filename=pumpNumber+\"-\"+predict+\"-\"+dset+\"-normalized.html\")"
   ]
  },
  {
   "cell_type": "markdown",
   "metadata": {},
   "source": [
    "### Denormalize:"
   ]
  },
  {
   "cell_type": "code",
   "execution_count": null,
   "metadata": {},
   "outputs": [],
   "source": [
    "#Denormalize\n",
    "\n",
    "result[\"real\"] = result[\"real\"]*flowstd + flowmean\n",
    "#test_dataset_shifted[\"level\"] = test_dataset_shifted[\"level\"]*flowstd + flowmean\n",
    "\n",
    "lstm[\"lstm\"] = lstm[\"lstm\"]*flowstd + flowmean\n",
    "#test_dataset_predicted_lstm[\"level\"] = test_dataset_predicted_lstm[\"level\"]*flowstd + flowmean\n",
    "\n",
    "gru[\"gru\"] = gru[\"gru\"]*flowstd + flowmean\n",
    "#test_dataset_predicted_gru[\"level\"] = test_dataset_predicted_gru[\"level\"]*flowstd + flowmean\n",
    "\n",
    "#fix negative problem:\n",
    "result[\"real\"] = np.where(result[\"real\"]<0, 0, result[\"real\"])\n",
    "lstm[\"lstm\"] = np.where(lstm[\"lstm\"]<0, 0, lstm[\"lstm\"])\n",
    "gru[\"gru\"] = np.where(gru[\"gru\"]<0, 0, gru[\"gru\"])"
   ]
  },
  {
   "cell_type": "markdown",
   "metadata": {},
   "source": [
    "### Recalculate error with de-normalization:"
   ]
  },
  {
   "cell_type": "code",
   "execution_count": null,
   "metadata": {},
   "outputs": [],
   "source": [
    "mean_absolute_error(result['real'], lstm[\"lstm\"])"
   ]
  },
  {
   "cell_type": "code",
   "execution_count": null,
   "metadata": {},
   "outputs": [],
   "source": [
    "mean_absolute_error(gru[\"gru\"], result['real'])"
   ]
  },
  {
   "cell_type": "markdown",
   "metadata": {},
   "source": [
    "### Plot values:"
   ]
  },
  {
   "cell_type": "code",
   "execution_count": null,
   "metadata": {},
   "outputs": [],
   "source": [
    "realdata = go.Scatter(\n",
    "          x=result.index,\n",
    "          y=result['real'],\n",
    "          name='real')\n",
    "\n",
    "lstmdata = go.Scatter(\n",
    "          x=result.index,\n",
    "          y=lstm[\"lstm\"],\n",
    "          name='lstm',\n",
    "          yaxis='y2')\n",
    "\n",
    "grudata = go.Scatter(\n",
    "          x=result.index,\n",
    "          y=gru[\"gru\"],\n",
    "          name='gru',\n",
    "          yaxis='y2')\n",
    "\n",
    "\n",
    "data = [realdata,lstmdata,grudata]\n",
    "\n",
    "\n",
    "\n",
    "layout = go.Layout(\n",
    "    title='Prediction error (real values)',\n",
    "    xaxis=dict(\n",
    "        rangeselector=dict(\n",
    "            buttons=list([\n",
    "                dict(count=1,\n",
    "                     label='1d',\n",
    "                     step='day',\n",
    "                     stepmode='backward'),\n",
    "                dict(count=7,\n",
    "                     label='1w',\n",
    "                     step='day',\n",
    "                     stepmode='backward'),\n",
    "                dict(count=1,\n",
    "                     label='1m',\n",
    "                     step='month',\n",
    "                     stepmode='backward'),\n",
    "                dict(step='all')\n",
    "            ])\n",
    "        ),        \n",
    "        rangeslider=dict(\n",
    "            visible = True\n",
    "        ),\n",
    "        type='date'\n",
    "    ),\n",
    "    yaxis=dict(\n",
    "        title='Real'\n",
    "    ),\n",
    "    yaxis2=dict(\n",
    "        title='Lstm',\n",
    "        overlaying='y',\n",
    "        side='right'\n",
    "    ),\n",
    "    yaxis3=dict(\n",
    "        title='Gru',\n",
    "        overlaying='y',\n",
    "        side='right'\n",
    "    )\n",
    ")\n",
    "fig = dict(data=data, layout=layout)\n",
    "offline.plot(fig, filename=pumpNumber+\"-\"+predict+\"-\"+dset+\"-real.html\")"
   ]
  },
  {
   "cell_type": "markdown",
   "metadata": {},
   "source": [
    "### Extra: Finding Optimal Parameters"
   ]
  },
  {
   "cell_type": "code",
   "execution_count": null,
   "metadata": {},
   "outputs": [],
   "source": [
    "from sklearn.model_selection import GridSearchCV\n",
    "from keras.wrappers.scikit_learn import KerasClassifier\n",
    "import copy\n",
    "\n",
    "def fit_lstm_tuning(activation, recurrent_activation, loss, optimizer):\n",
    "    model_lstm = Sequential()\n",
    "    model_lstm.add(LSTM(1, input_shape=(1, dataset.shape[1]), activation = activation, recurrent_activation = recurrent_activation))\n",
    "    model_lstm.add(Dense(1))\n",
    "    model_lstm.compile(loss=loss, optimizer=optimizer, metrics=[\"accuracy\"])\n",
    "    return model_lstm\n",
    "\n",
    "activations = ['softmax', 'elu', 'selu', 'softplus', 'softsign', 'relu', 'tanh', 'sigmoid', 'hard_sigmoid', 'linear']\n",
    "recurrent_activations = ['softmax', 'elu', 'selu', 'softplus', 'softsign', 'relu', 'tanh', 'sigmoid', 'hard_sigmoid', 'linear']\n",
    "\n",
    "optimizers = ['SGD', 'RMSprop', 'Adagrad', 'Adadelta', 'Adam', 'Adamax', 'Nadam']\n",
    "losses = ['mean_squared_error', 'mean_absolute_error', 'mean_absolute_percentage_error', 'mean_squared_logarithmic_error', 'squared_hinge', 'hinge', 'categorical_hinge', 'logcosh', 'categorical_crossentropy', 'sparse_categorical_crossentropy', 'binary_crossentropy', 'kullback_leibler_divergence', 'poisson', 'cosine_proximity']\n",
    "\n",
    "X = copy.deepcopy(train_dataset.values.reshape((train_dataset.shape[0], 1, train_dataset.shape[1])))\n",
    "Y = copy.deepcopy(train_dataset_shifted['flow'])\n",
    "\n",
    "model = KerasClassifier(build_fn=fit_lstm_tuning)\n",
    "\n",
    "param_grid = dict(activation = activations, recurrent_activation = recurrent_activations, optimizer = optimizers, loss = losses)\n",
    "\n",
    "grid = GridSearchCV(estimator=model, param_grid=param_grid, n_jobs=1)\n",
    "grid_result = grid.fit(X,Y)\n",
    "\n",
    "print(\"Best: %f using %s\" % (grid_result.best_score_, grid_result.best_params_))"
   ]
  }
 ],
 "metadata": {
  "kernelspec": {
   "display_name": "Python [default]",
   "language": "python",
   "name": "python3"
  },
  "language_info": {
   "codemirror_mode": {
    "name": "ipython",
    "version": 3
   },
   "file_extension": ".py",
   "mimetype": "text/x-python",
   "name": "python",
   "nbconvert_exporter": "python",
   "pygments_lexer": "ipython3",
   "version": "3.6.5"
  }
 },
 "nbformat": 4,
 "nbformat_minor": 2
}
