{
 "cells": [
  {
   "cell_type": "code",
   "execution_count": 1,
   "metadata": {},
   "outputs": [],
   "source": [
    "import pandas as pd\n",
    "import plotly.plotly as py\n",
    "import plotly.offline as offline\n",
    "import matplotlib.pyplot as plt\n",
    "import plotly.graph_objs as go\n",
    "import numpy as np"
   ]
  },
  {
   "cell_type": "markdown",
   "metadata": {},
   "source": [
    "### Read datasets"
   ]
  },
  {
   "cell_type": "code",
   "execution_count": 2,
   "metadata": {},
   "outputs": [],
   "source": [
    "flow = pd.read_csv(\"/Users/sergiers/Desktop/CLASE/BDMA/TUe/Capita_selecta/waterschap-aa-en-maas_sewage/sewer_data/PUMPdata_pump_aarle-rixtel_flow-level_1.5years/flow/carpeta sin título/4150/GBS_AR.RG4150_Instellingen_FT510_AM_Debietmeting.Q.csv\", delimiter=\";\", decimal=\",\", dtype={'level': float, 'flow': float})\n",
    "level = pd.read_csv(\"/Users/sergiers/Desktop/CLASE/BDMA/TUe/Capita_selecta/waterschap-aa-en-maas_sewage/sewer_data/PUMPdata_pump_aarle-rixtel_flow-level_1.5years/flow/carpeta sin título/4150/GBS_AR.RG4160_Instellingen_LT610_Niveaumeting.Q.csv\", delimiter=\";\", decimal=\",\", dtype={'level': float, 'flow': float})\n",
    "rain = pd.read_csv(\"/Users/sergiers/Desktop/CLASE/BDMA/TUe/Capita_selecta/waterschap-aa-en-maas_sewage/sewer_data/PUMPdata_pump_aarle-rixtel_flow-level_1.5years/flow/carpeta sin título/4150/4150-Boerdonk.csv\", delimiter=\";\", decimal=\",\", dtype={'level': float, 'flow': float})\n",
    "\n",
    "#a = pd.read_csv(\"/Users/sergiers/Desktop/CLASE/BDMA/TUe/Capita_selecta/waterschap-aa-en-maas_sewage/sewer_data/PUMPdata_pump_aarle-rixtel_flow-level_1.5years/flow/carpeta sin título/4160/GBS_AR.RG4160_Instellingen_FT510_Debietmeting.Q_1-1-2017.csv\", delimiter=\";\", decimal=\",\", dtype={'Value': float})\n",
    "#b = pd.read_csv(\"/Users/sergiers/Desktop/CLASE/BDMA/TUe/Capita_selecta/waterschap-aa-en-maas_sewage/sewer_data/PUMPdata_pump_aarle-rixtel_flow-level_1.5years/flow/carpeta sin título/4160/GBS_AR.RG4160_Instellingen_FT510_Debietmeting.Q_7-8-2017.csv\", delimiter=\";\", decimal=\",\", dtype={'Value': float})\n",
    "#flow = a.append(b)"
   ]
  },
  {
   "cell_type": "code",
   "execution_count": 3,
   "metadata": {},
   "outputs": [],
   "source": [
    "pumpNumber = \"4150\""
   ]
  },
  {
   "cell_type": "code",
   "execution_count": 4,
   "metadata": {},
   "outputs": [],
   "source": [
    "#Preprocess:\n",
    "#Flow:\n",
    "flow[\"TimeStamp\"] = pd.to_datetime(flow['TimeStamp'], format='%d-%m-%Y %H:%M:%S')\n",
    "flow.index = flow[\"TimeStamp\"]\n",
    "flow[\"flow\"] = flow[\"Value\"]\n",
    "flow = flow[[\"flow\"]]\n",
    "\n",
    "#level:\n",
    "level[\"TimeStamp\"] = pd.to_datetime(level['TimeStamp'], format='%d-%m-%Y %H:%M:%S')\n",
    "level.index = level[\"TimeStamp\"]\n",
    "level[\"level\"] = level[\"Value\"]\n",
    "level = level[[\"level\"]]\n",
    "\n",
    "#Rain:\n",
    "rain[\"Eind\"] = pd.to_datetime(rain['Eind'], format='%d.%m.%y %H:%M')\n",
    "rain.index = rain[\"Eind\"]\n",
    "rain = rain[[\"VOLUME\", \"WET\"]]"
   ]
  },
  {
   "cell_type": "markdown",
   "metadata": {},
   "source": [
    "### Resample data:"
   ]
  },
  {
   "cell_type": "code",
   "execution_count": 5,
   "metadata": {},
   "outputs": [],
   "source": [
    "level = level.resample('1T').mean()\n",
    "flow = flow.resample('1T').mean()\n",
    "rain = rain.resample('1T').mean()"
   ]
  },
  {
   "cell_type": "markdown",
   "metadata": {},
   "source": [
    "### Fill nan and repair"
   ]
  },
  {
   "cell_type": "code",
   "execution_count": 6,
   "metadata": {},
   "outputs": [],
   "source": [
    "#fill nan\n",
    "flow = flow.fillna(0)\n",
    "#flow= flow.interpolate(method='pchip')\n",
    "\n",
    "#remove level 0\n",
    "level = level[level[\"level\"] != 0]\n",
    "level= level.interpolate(method='pchip')\n",
    "\n",
    "#Fill nan with previous values\n",
    "rain = rain.fillna(method='ffill')"
   ]
  },
  {
   "cell_type": "markdown",
   "metadata": {},
   "source": [
    "### Shot counter:"
   ]
  },
  {
   "cell_type": "code",
   "execution_count": 7,
   "metadata": {},
   "outputs": [],
   "source": [
    "#threashold = 100\n",
    "#flow[\"working\"] = np.where(flow[\"flow\"]<threashold, 0, 1)"
   ]
  },
  {
   "cell_type": "markdown",
   "metadata": {},
   "source": [
    "### Join Datasets"
   ]
  },
  {
   "cell_type": "code",
   "execution_count": 8,
   "metadata": {},
   "outputs": [],
   "source": [
    "#Inner join Datasets\n",
    "a = flow.join(level, how='inner')\n",
    "dataset = a.join(rain, how='inner')"
   ]
  },
  {
   "cell_type": "markdown",
   "metadata": {},
   "source": [
    "### Day of the week and week of year"
   ]
  },
  {
   "cell_type": "code",
   "execution_count": 9,
   "metadata": {},
   "outputs": [],
   "source": [
    "dataset['WeekNumber'] = dataset.index.week\n",
    "dataset['DayOfWeek'] = dataset.index.weekday"
   ]
  },
  {
   "cell_type": "markdown",
   "metadata": {},
   "source": [
    "### Get means:"
   ]
  },
  {
   "cell_type": "code",
   "execution_count": 10,
   "metadata": {},
   "outputs": [],
   "source": [
    "#onmean = dataset.loc[dataset['working'] == 1][\"flow\"].mean()\n",
    "#offmean = dataset.loc[dataset['working'] == 0][\"flow\"].mean()"
   ]
  },
  {
   "cell_type": "markdown",
   "metadata": {},
   "source": [
    "### Create train dataset:"
   ]
  },
  {
   "cell_type": "code",
   "execution_count": 11,
   "metadata": {},
   "outputs": [],
   "source": [
    "#dataset[\"working\"] = np.where(dataset[\"working\"]==0, offmean, onmean)"
   ]
  },
  {
   "cell_type": "code",
   "execution_count": 12,
   "metadata": {},
   "outputs": [],
   "source": [
    "#dataset = dataset[[\"working\", \"level\", \"VOLUME\", \"WET\", \"WeekNumber\", \"DayOfWeek\"]]"
   ]
  },
  {
   "cell_type": "code",
   "execution_count": 13,
   "metadata": {},
   "outputs": [],
   "source": [
    "#dataset = dataset.rename(columns={'working': 'flow'})"
   ]
  },
  {
   "cell_type": "markdown",
   "metadata": {},
   "source": [
    "### Create DS with/without"
   ]
  },
  {
   "cell_type": "code",
   "execution_count": 14,
   "metadata": {},
   "outputs": [],
   "source": [
    "datadry = dataset[dataset[\"WET\"] != 1]\n",
    "datawet = dataset[dataset[\"WET\"] != 0]"
   ]
  },
  {
   "cell_type": "code",
   "execution_count": 15,
   "metadata": {},
   "outputs": [],
   "source": [
    "datadry = dataset[[\"flow\", \"level\", \"WeekNumber\", \"DayOfWeek\"]]"
   ]
  },
  {
   "cell_type": "code",
   "execution_count": 16,
   "metadata": {},
   "outputs": [],
   "source": [
    "#test = dataset.loc['2017-09-01 00:00':'2017-09-06 00:00']"
   ]
  },
  {
   "cell_type": "code",
   "execution_count": 17,
   "metadata": {},
   "outputs": [],
   "source": [
    "datadry.to_csv(pumpNumber+\"setdry.csv\", sep=',')\n",
    "datawet.to_csv(pumpNumber+\"setwet.csv\", sep=',')"
   ]
  },
  {
   "cell_type": "markdown",
   "metadata": {},
   "source": [
    "### Fix Dataset (if necessary)"
   ]
  },
  {
   "cell_type": "code",
   "execution_count": 18,
   "metadata": {},
   "outputs": [],
   "source": [
    "# Remove NaN\n",
    "#dataset = dataset.dropna()"
   ]
  },
  {
   "cell_type": "code",
   "execution_count": 19,
   "metadata": {},
   "outputs": [],
   "source": [
    "#Fill NaN with Mean?\n",
    "#dataset = dataset.fillna(flow.mean())"
   ]
  },
  {
   "cell_type": "code",
   "execution_count": 20,
   "metadata": {},
   "outputs": [],
   "source": [
    "# Remove Zeros?\n",
    "#dataset = dataset[dataset[\"flow\"] != 0]\n",
    "#dataset = dataset[dataset[\"level\"] != 0]"
   ]
  }
 ],
 "metadata": {
  "kernelspec": {
   "display_name": "Python 3",
   "language": "python",
   "name": "python3"
  },
  "language_info": {
   "codemirror_mode": {
    "name": "ipython",
    "version": 3
   },
   "file_extension": ".py",
   "mimetype": "text/x-python",
   "name": "python",
   "nbconvert_exporter": "python",
   "pygments_lexer": "ipython3",
   "version": "3.6.4"
  }
 },
 "nbformat": 4,
 "nbformat_minor": 2
}
