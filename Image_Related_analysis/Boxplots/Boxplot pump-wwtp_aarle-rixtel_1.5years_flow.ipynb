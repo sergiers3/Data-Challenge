{
 "cells": [
  {
   "cell_type": "code",
   "execution_count": 1,
   "metadata": {
    "collapsed": true
   },
   "outputs": [],
   "source": [
    "import pandas as pd"
   ]
  },
  {
   "cell_type": "code",
   "execution_count": 2,
   "metadata": {
    "collapsed": true
   },
   "outputs": [],
   "source": [
    "df1 = pd.read_csv(\"flow.csv\",sep=\";\", header=0)"
   ]
  },
  {
   "cell_type": "code",
   "execution_count": 3,
   "metadata": {},
   "outputs": [
    {
     "data": {
      "text/html": [
       "<div>\n",
       "<style>\n",
       "    .dataframe thead tr:only-child th {\n",
       "        text-align: right;\n",
       "    }\n",
       "\n",
       "    .dataframe thead th {\n",
       "        text-align: left;\n",
       "    }\n",
       "\n",
       "    .dataframe tbody tr th {\n",
       "        vertical-align: top;\n",
       "    }\n",
       "</style>\n",
       "<table border=\"1\" class=\"dataframe\">\n",
       "  <thead>\n",
       "    <tr style=\"text-align: right;\">\n",
       "      <th></th>\n",
       "      <th>Tag_Name</th>\n",
       "      <th>TimeStamp</th>\n",
       "      <th>Value</th>\n",
       "    </tr>\n",
       "  </thead>\n",
       "  <tbody>\n",
       "    <tr>\n",
       "      <th>0</th>\n",
       "      <td>GBS_AR.RG4160/Instellingen/FT510/Debietmeting.Q</td>\n",
       "      <td>1-4-2018 0:00:05</td>\n",
       "      <td>4.192282</td>\n",
       "    </tr>\n",
       "    <tr>\n",
       "      <th>1</th>\n",
       "      <td>GBS_AR.RG4160/Instellingen/FT510/Debietmeting.Q</td>\n",
       "      <td>1-4-2018 0:00:10</td>\n",
       "      <td>3.503988</td>\n",
       "    </tr>\n",
       "    <tr>\n",
       "      <th>2</th>\n",
       "      <td>GBS_AR.RG4160/Instellingen/FT510/Debietmeting.Q</td>\n",
       "      <td>1-4-2018 0:00:15</td>\n",
       "      <td>3.732523</td>\n",
       "    </tr>\n",
       "    <tr>\n",
       "      <th>3</th>\n",
       "      <td>GBS_AR.RG4160/Instellingen/FT510/Debietmeting.Q</td>\n",
       "      <td>1-4-2018 0:00:20</td>\n",
       "      <td>4.047639</td>\n",
       "    </tr>\n",
       "    <tr>\n",
       "      <th>4</th>\n",
       "      <td>GBS_AR.RG4160/Instellingen/FT510/Debietmeting.Q</td>\n",
       "      <td>1-4-2018 0:00:25</td>\n",
       "      <td>3.296171</td>\n",
       "    </tr>\n",
       "  </tbody>\n",
       "</table>\n",
       "</div>"
      ],
      "text/plain": [
       "                                          Tag_Name         TimeStamp     Value\n",
       "0  GBS_AR.RG4160/Instellingen/FT510/Debietmeting.Q  1-4-2018 0:00:05  4.192282\n",
       "1  GBS_AR.RG4160/Instellingen/FT510/Debietmeting.Q  1-4-2018 0:00:10  3.503988\n",
       "2  GBS_AR.RG4160/Instellingen/FT510/Debietmeting.Q  1-4-2018 0:00:15  3.732523\n",
       "3  GBS_AR.RG4160/Instellingen/FT510/Debietmeting.Q  1-4-2018 0:00:20  4.047639\n",
       "4  GBS_AR.RG4160/Instellingen/FT510/Debietmeting.Q  1-4-2018 0:00:25  3.296171"
      ]
     },
     "execution_count": 3,
     "metadata": {},
     "output_type": "execute_result"
    }
   ],
   "source": [
    "df1.head()"
   ]
  },
  {
   "cell_type": "code",
   "execution_count": 4,
   "metadata": {},
   "outputs": [
    {
     "data": {
      "text/html": [
       "<div>\n",
       "<style>\n",
       "    .dataframe thead tr:only-child th {\n",
       "        text-align: right;\n",
       "    }\n",
       "\n",
       "    .dataframe thead th {\n",
       "        text-align: left;\n",
       "    }\n",
       "\n",
       "    .dataframe tbody tr th {\n",
       "        vertical-align: top;\n",
       "    }\n",
       "</style>\n",
       "<table border=\"1\" class=\"dataframe\">\n",
       "  <thead>\n",
       "    <tr style=\"text-align: right;\">\n",
       "      <th></th>\n",
       "      <th>Value</th>\n",
       "    </tr>\n",
       "    <tr>\n",
       "      <th>Tag_Name</th>\n",
       "      <th></th>\n",
       "    </tr>\n",
       "  </thead>\n",
       "  <tbody>\n",
       "    <tr>\n",
       "      <th>GBS_AR.RG4130/Instellingen/FT510/AM_Debietmeting.Q</th>\n",
       "      <td>6.038166e+08</td>\n",
       "    </tr>\n",
       "    <tr>\n",
       "      <th>GBS_AR.RG4140/Instellingen/FT510/AM_Debietmeting.Q</th>\n",
       "      <td>2.101549e+08</td>\n",
       "    </tr>\n",
       "    <tr>\n",
       "      <th>GBS_AR.RG4150/Instellingen/FT510/AM_Debietmeting.Q</th>\n",
       "      <td>6.836485e+07</td>\n",
       "    </tr>\n",
       "    <tr>\n",
       "      <th>GBS_AR.RG4160/Instellingen/FT510/Debietmeting.Q</th>\n",
       "      <td>3.706408e+07</td>\n",
       "    </tr>\n",
       "    <tr>\n",
       "      <th>GBS_AR.RG4170/Instellingen/FT510/AM_Debietmeting.Q</th>\n",
       "      <td>1.664137e+09</td>\n",
       "    </tr>\n",
       "    <tr>\n",
       "      <th>GBS_AR.RG4170/Instellingen/FT511/AM_Debietmeting.Q</th>\n",
       "      <td>6.092022e+08</td>\n",
       "    </tr>\n",
       "  </tbody>\n",
       "</table>\n",
       "</div>"
      ],
      "text/plain": [
       "                                                           Value\n",
       "Tag_Name                                                        \n",
       "GBS_AR.RG4130/Instellingen/FT510/AM_Debietmeting.Q  6.038166e+08\n",
       "GBS_AR.RG4140/Instellingen/FT510/AM_Debietmeting.Q  2.101549e+08\n",
       "GBS_AR.RG4150/Instellingen/FT510/AM_Debietmeting.Q  6.836485e+07\n",
       "GBS_AR.RG4160/Instellingen/FT510/Debietmeting.Q     3.706408e+07\n",
       "GBS_AR.RG4170/Instellingen/FT510/AM_Debietmeting.Q  1.664137e+09\n",
       "GBS_AR.RG4170/Instellingen/FT511/AM_Debietmeting.Q  6.092022e+08"
      ]
     },
     "execution_count": 4,
     "metadata": {},
     "output_type": "execute_result"
    }
   ],
   "source": [
    "df1.groupby(\"Tag_Name\").sum()"
   ]
  },
  {
   "cell_type": "code",
   "execution_count": 5,
   "metadata": {
    "collapsed": true
   },
   "outputs": [],
   "source": [
    "d = {\"Tag_Name\": [\"GBS_AR.RG4130/Instellingen/FT510/AM_Debietmeting.Q\", \"GBS_AR.RG4140/Instellingen/FT510/AM_Debietmeting.Q\", \"GBS_AR.RG4150/Instellingen/FT510/AM_Debietmeting.Q\",\"GBS_AR.RG4160/Instellingen/FT510/Debietmeting.Q\", \"GBS_AR.RG4170/Instellingen/FT510/AM_Debietmeting.Q\", \"GBS_AR.RG4170/Instellingen/FT511/AM_Debietmeting.Q\"], \"Pumps\": [\"4130\",\"4140\", \"4150\", \"4160\", \"4170-A\", \"4170-B\"]}\n",
    "dftable = pd.DataFrame(data=d)\n",
    "result = df1.merge(dftable, on=\"Tag_Name\")"
   ]
  },
  {
   "cell_type": "code",
   "execution_count": 6,
   "metadata": {},
   "outputs": [
    {
     "data": {
      "text/plain": [
       "<matplotlib.axes._subplots.AxesSubplot at 0x2138399edd8>"
      ]
     },
     "execution_count": 6,
     "metadata": {},
     "output_type": "execute_result"
    },
    {
     "data": {
      "image/png": "[encoded data removed]",
      "text/plain": [
       "<matplotlib.figure.Figure at 0x21381c049e8>"
      ]
     },
     "metadata": {},
     "output_type": "display_data"
    }
   ],
   "source": [
    "from matplotlib import pyplot as plt\n",
    "%matplotlib inline\n",
    "import seaborn as sns\n",
    "sns.set_style('whitegrid')\n",
    "fig, ax = plt.subplots()\n",
    "fig.set_size_inches(10, 13)\n",
    "\n",
    "sns.boxplot(ax=ax, x='Pumps', y='Value', data=result,order=[\"4130\",\"4140\", \"4150\", \"4160\", \"4170-A\", \"4170-B\"])"
   ]
  },
  {
   "cell_type": "code",
   "execution_count": null,
   "metadata": {
    "collapsed": true
   },
   "outputs": [],
   "source": []
  }
 ],
 "metadata": {
  "kernelspec": {
   "display_name": "Python 3",
   "language": "python",
   "name": "python3"
  },
  "language_info": {
   "codemirror_mode": {
    "name": "ipython",
    "version": 3
   },
   "file_extension": ".py",
   "mimetype": "text/x-python",
   "name": "python",
   "nbconvert_exporter": "python",
   "pygments_lexer": "ipython3",
   "version": "3.6.1"
  }
 },
 "nbformat": 4,
 "nbformat_minor": 2
}
