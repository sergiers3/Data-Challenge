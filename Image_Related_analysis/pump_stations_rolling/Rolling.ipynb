{
 "cells": [
  {
   "cell_type": "code",
   "execution_count": 1,
   "metadata": {},
   "outputs": [],
   "source": [
    "import pandas as pd\n",
    "import plotly.plotly as py\n",
    "import plotly.graph_objs as go\n",
    "import matplotlib as mpl\n",
    "import matplotlib.pyplot as plt\n",
    "import numpy as np"
   ]
  },
  {
   "cell_type": "code",
   "execution_count": 24,
   "metadata": {},
   "outputs": [],
   "source": [
    "#Read the raw flow data of station 4120 \n",
    "# /sewer_data/data_pump-wwtp_aarle-rixtel_flow-level_1.5years/flow/GBS_AR.RG4120_Instellingen_FT510_AM_Debietmeting.Q.csv\n",
    "df_4120 = pd.read_csv('GBS_AR.RG4120_Instellingen_FT510_AM_Debietmeting.Q.csv',delimiter=\";\",\n",
    "                decimal=',',\n",
    "                parse_dates=[1], \n",
    "                date_parser = lambda x: pd.datetime.strptime(x, '%d-%m-%Y %H:%M:%S') \n",
    "                ) "
   ]
  },
  {
   "cell_type": "code",
   "execution_count": 18,
   "metadata": {},
   "outputs": [],
   "source": [
    "df_4120.index = df_4120['TimeStamp'] #set index\n",
    "df_4120 = df_4120.resample('H').mean().reset_index() #resample by hour"
   ]
  },
  {
   "cell_type": "code",
   "execution_count": 22,
   "metadata": {},
   "outputs": [
    {
     "data": {
      "text/html": [
       "<iframe id=\"igraph\" scrolling=\"no\" style=\"border:none;\" seamless=\"seamless\" src=\"https://plot.ly/~duytran96/129.embed\" height=\"525px\" width=\"100%\"></iframe>"
      ],
      "text/plain": [
       "<plotly.tools.PlotlyDisplay object>"
      ]
     },
     "execution_count": 22,
     "metadata": {},
     "output_type": "execute_result"
    }
   ],
   "source": [
    "hour = '6H' # Amount of hour to take average\n",
    "#Take the average PREVIOUS 6h to smoothen the chart\n",
    "df_rolling = df_4120.set_index('TimeStamp').rolling(hour).mean().reset_index()\n",
    "data_plot = []\n",
    "    \n",
    "#Add original (raw) data to compare\n",
    "data_plot.append(go.Scatter(x=df_4120['TimeStamp'],y=df_4120['Value'],name='Original value'))\n",
    "    \n",
    "#Averaged data\n",
    "data_plot.append(go.Scatter(x=df_rolling['TimeStamp'],y=df_rolling['Value'],name='Rolling by '+hour))\n",
    "    \n",
    "#Plot\n",
    "layout = go.Layout(\n",
    "    title='Station 4120 with ' + hour + ' mean rolling',\n",
    "        xaxis=dict(     \n",
    "        rangeslider=dict(\n",
    "            visible = True\n",
    "        ),\n",
    "        type='date'\n",
    "    ),\n",
    "    yaxis=dict(\n",
    "        title='Flow (m3/h)'\n",
    "    )\n",
    ")\n",
    "fig = dict(data=data_plot, layout=layout)\n",
    "py.iplot(fig)"
   ]
  },
  {
   "cell_type": "code",
   "execution_count": null,
   "metadata": {},
   "outputs": [],
   "source": []
  },
  {
   "cell_type": "code",
   "execution_count": null,
   "metadata": {},
   "outputs": [],
   "source": []
  },
  {
   "cell_type": "code",
   "execution_count": null,
   "metadata": {},
   "outputs": [],
   "source": []
  }
 ],
 "metadata": {
  "kernelspec": {
   "display_name": "Python 2",
   "language": "python",
   "name": "python2"
  },
  "language_info": {
   "codemirror_mode": {
    "name": "ipython",
    "version": 2
   },
   "file_extension": ".py",
   "mimetype": "text/x-python",
   "name": "python",
   "nbconvert_exporter": "python",
   "pygments_lexer": "ipython2",
   "version": "2.7.14"
  }
 },
 "nbformat": 4,
 "nbformat_minor": 2
}
