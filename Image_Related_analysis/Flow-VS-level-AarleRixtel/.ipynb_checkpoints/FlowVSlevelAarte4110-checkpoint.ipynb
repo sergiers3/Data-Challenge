{
 "cells": [
  {
   "cell_type": "code",
   "execution_count": 85,
   "metadata": {},
   "outputs": [],
   "source": [
    "import pandas as pd\n",
    "import plotly.plotly as py\n",
    "import plotly.offline as offline\n",
    "import plotly.graph_objs as go\n",
    "import matplotlib.pyplot as plt\n",
    "import plotly.graph_objs as go"
   ]
  },
  {
   "cell_type": "code",
   "execution_count": 86,
   "metadata": {},
   "outputs": [],
   "source": [
    "#Read datasets. In this case, we use the excell file of tags to link pumps/level\n",
    "pump = pd.read_csv(\"/Users/sergiers/Desktop/CLASE/BDMA/TUe/Capita_selecta/waterschap-aa-en-maas_sewage/sewer_data/PUMPdata_pump_aarle-rixtel_flow-level_1.5years/flow/carpeta sin título/4110/GBS_AR.RG4110_Instellingen_FT510_Debietmeting.Q.csv\", delimiter=\";\", decimal=\",\", dtype={'Value': float})\n",
    "level = pd.read_csv(\"/Users/sergiers/Desktop/CLASE/BDMA/TUe/Capita_selecta/waterschap-aa-en-maas_sewage/sewer_data/PUMPdata_pump_aarle-rixtel_flow-level_1.5years/flow/carpeta sin título/4110/GBS_AR.RG4110_Instellingen_LT610_Niveaumeting.Q.csv\", delimiter=\";\", decimal=\",\", dtype={'Value': float})\n",
    "rain = pd.read_csv(\"/Users/sergiers/Desktop/CLASE/BDMA/TUe/Capita_selecta/waterschap-aa-en-maas_sewage/sewer_data/PUMPdata_pump_aarle-rixtel_flow-level_1.5years/flow/carpeta sin título/4110/4110-Lieshout.csv\", delimiter=\";\", decimal=\",\", dtype={'Value': float})\n"
   ]
  },
  {
   "cell_type": "code",
   "execution_count": 87,
   "metadata": {},
   "outputs": [],
   "source": [
    "#IMPORTANT: Parse dates\n",
    "pump[\"TimeStamp\"] = pd.to_datetime(pump['TimeStamp'], format='%d-%m-%Y %H:%M:%S')\n",
    "level[\"TimeStamp\"] = pd.to_datetime(level['TimeStamp'], format='%d-%m-%Y %H:%M:%S')\n",
    "rain[\"Eind\"] = pd.to_datetime(rain['Eind'])\n"
   ]
  },
  {
   "cell_type": "code",
   "execution_count": 88,
   "metadata": {},
   "outputs": [],
   "source": [
    "#Create an index and remove timestamp column and tag name\n",
    "level.index = level[\"TimeStamp\"]\n",
    "pump.index = pump[\"TimeStamp\"]\n",
    "rain.index = rain[\"Eind\"]\n"
   ]
  },
  {
   "cell_type": "code",
   "execution_count": 89,
   "metadata": {},
   "outputs": [],
   "source": [
    "level.index.names = ['Date']\n",
    "pump.index.names = ['Date']\n",
    "rain.index.names = ['Eind']"
   ]
  },
  {
   "cell_type": "code",
   "execution_count": 90,
   "metadata": {},
   "outputs": [],
   "source": [
    "pump = pump[[\"Value\"]]\n",
    "level = level[[\"Value\"]]\n",
    "rain = rain[[\"VOLUME\"]]"
   ]
  },
  {
   "cell_type": "code",
   "execution_count": 103,
   "metadata": {},
   "outputs": [],
   "source": [
    "#Cut the datasets:\n",
    "#Level & Rain must start on 2017-08-07 00:48:40:\n",
    "level = level.loc['2017-08-07 00:48:40':]\n",
    "rain = rain.loc['2017-08-06':]\n",
    "\n",
    "\n",
    "#Level must end on 2018-08-06 23:12:00\n",
    "level = level.loc[:'2018-08-06 23:12:00']\n",
    "rain = rain.loc[:'2018-08-06 00:00:00']"
   ]
  },
  {
   "cell_type": "code",
   "execution_count": 110,
   "metadata": {},
   "outputs": [],
   "source": [
    "#now we need to resample so data is homogeneous\n",
    "level = level.resample('60T').mean()\n",
    "pump = pump.resample('60T').mean()\n",
    "rain = rain.resample('60T').mean()"
   ]
  },
  {
   "cell_type": "code",
   "execution_count": 112,
   "metadata": {},
   "outputs": [],
   "source": [
    "flowdata = go.Scatter(\n",
    "          x=pump.index,\n",
    "          y=pump['Value'],\n",
    "          name='flow')"
   ]
  },
  {
   "cell_type": "code",
   "execution_count": 113,
   "metadata": {},
   "outputs": [],
   "source": [
    "leveldata = go.Scatter(\n",
    "          x=level.index,\n",
    "          y=level['Value'],\n",
    "          name='Level',\n",
    "          yaxis='y2')"
   ]
  },
  {
   "cell_type": "code",
   "execution_count": 114,
   "metadata": {},
   "outputs": [],
   "source": [
    "raindata = go.Scatter(\n",
    "          x=rain.index,\n",
    "          y=rain['VOLUME'],\n",
    "          name='Rain',\n",
    "          yaxis='y3')"
   ]
  },
  {
   "cell_type": "code",
   "execution_count": 115,
   "metadata": {},
   "outputs": [],
   "source": [
    "data = [flowdata,leveldata, raindata]"
   ]
  },
  {
   "cell_type": "code",
   "execution_count": 117,
   "metadata": {},
   "outputs": [
    {
     "data": {
      "text/plain": [
       "'file:///Users/sergiers/PycharmProjects/DATARESPONSIBLECHALLENGE/Image_Related_analysis/Flow-VS-level-AarleRixtel/4110.html'"
      ]
     },
     "execution_count": 117,
     "metadata": {},
     "output_type": "execute_result"
    }
   ],
   "source": [
    "layout = go.Layout(\n",
    "    title='Flow vs Level vs Rain Aarle 4110',\n",
    "    xaxis=dict(\n",
    "        rangeselector=dict(\n",
    "            buttons=list([\n",
    "                dict(count=1,\n",
    "                     label='1d',\n",
    "                     step='day',\n",
    "                     stepmode='backward'),\n",
    "                dict(count=7,\n",
    "                     label='1w',\n",
    "                     step='day',\n",
    "                     stepmode='backward'),\n",
    "                dict(count=1,\n",
    "                     label='1m',\n",
    "                     step='month',\n",
    "                     stepmode='backward'),\n",
    "                dict(step='all')\n",
    "            ])\n",
    "        ),        \n",
    "        rangeslider=dict(\n",
    "            visible = True\n",
    "        ),\n",
    "        type='date'\n",
    "    ),\n",
    "    yaxis=dict(\n",
    "        title='Flow (m3/h)'\n",
    "    ),\n",
    "    yaxis2=dict(\n",
    "        title='Level (m above NAP)',\n",
    "        overlaying='y',\n",
    "        side='right'\n",
    "    ),\n",
    "    yaxis3=dict(\n",
    "        title='Rain Volume',\n",
    "        overlaying='y',\n",
    "        side='right'\n",
    "    )\n",
    ")\n",
    "fig = dict(data=data, layout=layout)\n",
    "offline.plot(fig, filename='4110.html')\n",
    "#py.iplot(fig)"
   ]
  },
  {
   "cell_type": "code",
   "execution_count": null,
   "metadata": {},
   "outputs": [],
   "source": []
  }
 ],
 "metadata": {
  "kernelspec": {
   "display_name": "Python [default]",
   "language": "python",
   "name": "python3"
  },
  "language_info": {
   "codemirror_mode": {
    "name": "ipython",
    "version": 3
   },
   "file_extension": ".py",
   "mimetype": "text/x-python",
   "name": "python",
   "nbconvert_exporter": "python",
   "pygments_lexer": "ipython3",
   "version": "3.6.5"
  }
 },
 "nbformat": 4,
 "nbformat_minor": 2
}
