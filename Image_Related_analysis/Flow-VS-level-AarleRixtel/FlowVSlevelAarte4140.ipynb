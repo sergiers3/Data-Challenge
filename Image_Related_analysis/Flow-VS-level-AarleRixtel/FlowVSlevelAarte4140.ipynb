{
 "cells": [
  {
   "cell_type": "code",
   "execution_count": 1,
   "metadata": {},
   "outputs": [],
   "source": [
    "import pandas as pd\n",
    "import plotly.plotly as py\n",
    "import plotly.offline as offline\n",
    "import plotly.graph_objs as go\n",
    "import matplotlib.pyplot as plt\n",
    "import plotly.graph_objs as go"
   ]
  },
  {
   "cell_type": "code",
   "execution_count": 2,
   "metadata": {},
   "outputs": [],
   "source": [
    "#Read datasets. In this case, we use the excell file of tags to link pumps/level\n",
    "pump = pd.read_csv(\"/Users/sergiers/Desktop/CLASE/BDMA/TUe/Capita_selecta/waterschap-aa-en-maas_sewage/sewer_data/PUMPdata_pump_aarle-rixtel_flow-level_1.5years/flow/carpeta sin título/4140/GBS_AR.RG4140_Instellingen_FT510_AM_Debietmeting.Q.csv\", delimiter=\";\", decimal=\",\", dtype={'Value': float})\n",
    "level = pd.read_csv(\"/Users/sergiers/Desktop/CLASE/BDMA/TUe/Capita_selecta/waterschap-aa-en-maas_sewage/sewer_data/PUMPdata_pump_aarle-rixtel_flow-level_1.5years/flow/carpeta sin título/4140/xGBS_AR.RG4150_Instellingen_LT610_Niveaumeting.Q.csv\", delimiter=\";\", decimal=\",\", dtype={'Value': float})\n",
    "rain = pd.read_csv(\"/Users/sergiers/Desktop/CLASE/BDMA/TUe/Capita_selecta/waterschap-aa-en-maas_sewage/sewer_data/PUMPdata_pump_aarle-rixtel_flow-level_1.5years/flow/carpeta sin título/4140/4140-Mariahout.csv\", delimiter=\";\", decimal=\",\", dtype={'Value': float})\n"
   ]
  },
  {
   "cell_type": "code",
   "execution_count": 3,
   "metadata": {},
   "outputs": [],
   "source": [
    "#IMPORTANT: Parse dates\n",
    "pump[\"TimeStamp\"] = pd.to_datetime(pump['TimeStamp'], format='%d-%m-%Y %H:%M:%S')\n",
    "level[\"TimeStamp\"] = pd.to_datetime(level['TimeStamp'], format='%d-%m-%Y %H:%M:%S')\n",
    "rain[\"Eind\"] = pd.to_datetime(rain['Eind'])\n"
   ]
  },
  {
   "cell_type": "code",
   "execution_count": 4,
   "metadata": {},
   "outputs": [],
   "source": [
    "#Create an index and remove timestamp column and tag name\n",
    "level.index = level[\"TimeStamp\"]\n",
    "pump.index = pump[\"TimeStamp\"]\n",
    "rain.index = rain[\"Eind\"]\n"
   ]
  },
  {
   "cell_type": "code",
   "execution_count": 5,
   "metadata": {},
   "outputs": [],
   "source": [
    "level.index.names = ['Date']\n",
    "pump.index.names = ['Date']\n",
    "rain.index.names = ['Eind']"
   ]
  },
  {
   "cell_type": "code",
   "execution_count": 6,
   "metadata": {},
   "outputs": [],
   "source": [
    "pump = pump[[\"Value\"]]\n",
    "level = level[[\"Value\"]]\n",
    "rain = rain[[\"VOLUME\"]]"
   ]
  },
  {
   "cell_type": "code",
   "execution_count": 10,
   "metadata": {},
   "outputs": [],
   "source": [
    "#NOT NECESARYCut the datasets:\n",
    "#level = level.loc['2017-08-07 00:00:05':]\n",
    "rain = rain.loc[:'2018-08-06']"
   ]
  },
  {
   "cell_type": "code",
   "execution_count": 13,
   "metadata": {},
   "outputs": [],
   "source": [
    "#now we need to resample so data is homogeneous\n",
    "level = level.resample('60T').mean()\n",
    "pump = pump.resample('60T').mean()\n",
    "rain = rain.resample('60T').mean()"
   ]
  },
  {
   "cell_type": "code",
   "execution_count": 14,
   "metadata": {},
   "outputs": [],
   "source": [
    "flowdata = go.Scatter(\n",
    "          x=pump.index,\n",
    "          y=pump['Value'],\n",
    "          name='flow')\n",
    "leveldata = go.Scatter(\n",
    "          x=level.index,\n",
    "          y=level['Value'],\n",
    "          name='Level',\n",
    "          yaxis='y2')\n",
    "raindata = go.Scatter(\n",
    "          x=rain.index,\n",
    "          y=rain['VOLUME'],\n",
    "          name='Rain',\n",
    "          yaxis='y3')\n",
    "data = [flowdata,leveldata, raindata]"
   ]
  },
  {
   "cell_type": "code",
   "execution_count": 15,
   "metadata": {},
   "outputs": [
    {
     "data": {
      "text/plain": [
       "'file:///Users/sergiers/PycharmProjects/DATARESPONSIBLECHALLENGE/Image_Related_analysis/Flow-VS-level-AarleRixtel/4140.html'"
      ]
     },
     "execution_count": 15,
     "metadata": {},
     "output_type": "execute_result"
    }
   ],
   "source": [
    "layout = go.Layout(\n",
    "    title='Flow vs Level Vs Rain Aarle 4140',\n",
    "    xaxis=dict(\n",
    "        rangeselector=dict(\n",
    "            buttons=list([\n",
    "                dict(count=1,\n",
    "                     label='1d',\n",
    "                     step='day',\n",
    "                     stepmode='backward'),\n",
    "                dict(count=7,\n",
    "                     label='1w',\n",
    "                     step='day',\n",
    "                     stepmode='backward'),\n",
    "                dict(count=1,\n",
    "                     label='1m',\n",
    "                     step='month',\n",
    "                     stepmode='backward'),\n",
    "                dict(step='all')\n",
    "            ])\n",
    "        ),        \n",
    "        rangeslider=dict(\n",
    "            visible = True\n",
    "        ),\n",
    "        type='date'\n",
    "    ),\n",
    "    yaxis=dict(\n",
    "        title='Flow (m3/h)'\n",
    "    ),\n",
    "    yaxis2=dict(\n",
    "        title='Level (m above NAP)',\n",
    "        overlaying='y',\n",
    "        side='right'\n",
    "    ),\n",
    "    yaxis3=dict(\n",
    "        title='Rain Volume',\n",
    "        overlaying='y',\n",
    "        side='right'\n",
    "    )\n",
    ")\n",
    "fig = dict(data=data, layout=layout)\n",
    "offline.plot(fig, filename='4140.html')\n",
    "#py.iplot(fig)"
   ]
  },
  {
   "cell_type": "code",
   "execution_count": null,
   "metadata": {},
   "outputs": [],
   "source": []
  }
 ],
 "metadata": {
  "kernelspec": {
   "display_name": "Python 3",
   "language": "python",
   "name": "python3"
  },
  "language_info": {
   "codemirror_mode": {
    "name": "ipython",
    "version": 3
   },
   "file_extension": ".py",
   "mimetype": "text/x-python",
   "name": "python",
   "nbconvert_exporter": "python",
   "pygments_lexer": "ipython3",
   "version": "3.6.4"
  }
 },
 "nbformat": 4,
 "nbformat_minor": 2
}
