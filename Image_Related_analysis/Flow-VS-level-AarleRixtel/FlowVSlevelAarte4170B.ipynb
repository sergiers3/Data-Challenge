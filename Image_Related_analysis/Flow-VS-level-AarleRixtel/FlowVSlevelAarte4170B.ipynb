{
 "cells": [
  {
   "cell_type": "code",
   "execution_count": 1,
   "metadata": {},
   "outputs": [],
   "source": [
    "import pandas as pd\n",
    "import plotly.plotly as py\n",
    "import plotly.offline as offline\n",
    "import plotly.graph_objs as go\n",
    "import matplotlib.pyplot as plt\n",
    "import plotly.graph_objs as go"
   ]
  },
  {
   "cell_type": "code",
   "execution_count": 13,
   "metadata": {},
   "outputs": [],
   "source": [
    "#Read datasets. In this case, we use the excell file of tags to link pumps/level\n",
    "pump = pd.read_csv(\"/Users/sergiers/Desktop/CLASE/BDMA/TUe/Capita_selecta/waterschap-aa-en-maas_sewage/sewer_data/PUMPdata_pump_aarle-rixtel_flow-level_1.5years/flow/carpeta sin título/4170B/GBS_AR.RG4170_Instellingen_FT511_AM_Debietmeting.Q_1-1-2017.csv\", delimiter=\";\", decimal=\",\", dtype={'Value': float})\n",
    "pump2 = pd.read_csv(\"/Users/sergiers/Desktop/CLASE/BDMA/TUe/Capita_selecta/waterschap-aa-en-maas_sewage/sewer_data/PUMPdata_pump_aarle-rixtel_flow-level_1.5years/flow/carpeta sin título/4170B/GBS_AR.RG4170_Instellingen_FT511_AM_Debietmeting.Q_7-8-2017.csv\", delimiter=\";\", decimal=\",\", dtype={'Value': float})\n",
    "pump = pump.append(pump2)\n",
    "\n",
    "level = pd.read_csv(\"/Users/sergiers/Desktop/CLASE/BDMA/TUe/Capita_selecta/waterschap-aa-en-maas_sewage/sewer_data/PUMPdata_pump_aarle-rixtel_flow-level_1.5years/flow/carpeta sin título/4170B/xGBS_AR.RG4190_Proces_LT620_Niveaumeting.Q.csv\", delimiter=\";\", decimal=\",\", dtype={'Value': float})"
   ]
  },
  {
   "cell_type": "code",
   "execution_count": 14,
   "metadata": {},
   "outputs": [],
   "source": [
    "#IMPORTANT: Parse dates\n",
    "pump[\"TimeStamp\"] = pd.to_datetime(pump['TimeStamp'], format='%d-%m-%Y %H:%M:%S')\n",
    "level[\"TimeStamp\"] = pd.to_datetime(level['TimeStamp'], format='%d-%m-%Y %H:%M:%S')"
   ]
  },
  {
   "cell_type": "code",
   "execution_count": 15,
   "metadata": {},
   "outputs": [],
   "source": [
    "#Create an index and remove timestamp column and tag name\n",
    "level.index = level[\"TimeStamp\"]\n",
    "pump.index = pump[\"TimeStamp\"]"
   ]
  },
  {
   "cell_type": "code",
   "execution_count": 16,
   "metadata": {},
   "outputs": [],
   "source": [
    "level.index.names = ['Date']\n",
    "pump.index.names = ['Date']"
   ]
  },
  {
   "cell_type": "code",
   "execution_count": 17,
   "metadata": {},
   "outputs": [],
   "source": [
    "pump = pump[[\"Value\"]]\n",
    "level = level[[\"Value\"]]"
   ]
  },
  {
   "cell_type": "code",
   "execution_count": 19,
   "metadata": {},
   "outputs": [],
   "source": [
    "#now we need to resample so data is homogeneous\n",
    "level = level.resample('30T').mean()\n",
    "pump = pump.resample('30T').mean()"
   ]
  },
  {
   "cell_type": "code",
   "execution_count": 17,
   "metadata": {},
   "outputs": [],
   "source": [
    "flowdata = go.Scatter(\n",
    "          x=pump.index,\n",
    "          y=pump['Value'],\n",
    "          name='flow')\n",
    "leveldata = go.Scatter(\n",
    "          x=level.index,\n",
    "          y=level['Value'],\n",
    "          name='Level',\n",
    "          yaxis='y2')\n",
    "data = [flowdata,leveldata]"
   ]
  },
  {
   "cell_type": "code",
   "execution_count": 18,
   "metadata": {},
   "outputs": [
    {
     "data": {
      "text/plain": [
       "'file:///Users/sergiers/4170B.html'"
      ]
     },
     "execution_count": 18,
     "metadata": {},
     "output_type": "execute_result"
    }
   ],
   "source": [
    "layout = go.Layout(\n",
    "    title='Flow vs Level Aarle 4170B',\n",
    "    xaxis=dict(\n",
    "        rangeselector=dict(\n",
    "            buttons=list([\n",
    "                dict(count=1,\n",
    "                     label='1d',\n",
    "                     step='day',\n",
    "                     stepmode='backward'),\n",
    "                dict(count=7,\n",
    "                     label='1w',\n",
    "                     step='day',\n",
    "                     stepmode='backward'),\n",
    "                dict(count=1,\n",
    "                     label='1m',\n",
    "                     step='month',\n",
    "                     stepmode='backward'),\n",
    "                dict(step='all')\n",
    "            ])\n",
    "        ),        \n",
    "        rangeslider=dict(\n",
    "            visible = True\n",
    "        ),\n",
    "        type='date'\n",
    "    ),\n",
    "    yaxis=dict(\n",
    "        title='Flow (m3/h)'\n",
    "    ),\n",
    "    yaxis2=dict(\n",
    "        title='Level (m above NAP)',\n",
    "        overlaying='y',\n",
    "        side='right'\n",
    "    )\n",
    ")\n",
    "fig = dict(data=data, layout=layout)\n",
    "offline.plot(fig, filename='4170B.html')\n",
    "#py.iplot(fig)"
   ]
  },
  {
   "cell_type": "code",
   "execution_count": null,
   "metadata": {},
   "outputs": [],
   "source": [
    "#Conclusion: missing lot of data"
   ]
  }
 ],
 "metadata": {
  "kernelspec": {
   "display_name": "Python 3",
   "language": "python",
   "name": "python3"
  },
  "language_info": {
   "codemirror_mode": {
    "name": "ipython",
    "version": 3
   },
   "file_extension": ".py",
   "mimetype": "text/x-python",
   "name": "python",
   "nbconvert_exporter": "python",
   "pygments_lexer": "ipython3",
   "version": "3.6.4"
  }
 },
 "nbformat": 4,
 "nbformat_minor": 2
}
