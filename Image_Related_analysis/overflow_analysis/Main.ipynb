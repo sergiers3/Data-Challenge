{
 "cells": [
  {
   "cell_type": "code",
   "execution_count": null,
   "metadata": {
    "collapsed": true
   },
   "outputs": [],
   "source": [
    "import os\n",
    "cwd = os.getcwd()"
   ]
  },
  {
   "cell_type": "code",
   "execution_count": null,
   "metadata": {
    "collapsed": true
   },
   "outputs": [],
   "source": [
    "import pandas as pd\n",
    "from scipy import stats\n",
    "import numpy as np"
   ]
  },
  {
   "cell_type": "code",
   "execution_count": null,
   "metadata": {},
   "outputs": [],
   "source": [
    "#Load data\n",
    "datos=pd.read_csv(\"GBS_AR.RG4190_Proces_LT620_Niveaumeting.Q.csv\",sep=\";\")\n",
    "datos[\"Value\"]=datos.Value.str.replace(\",\",\".\")\n",
    "datos[\"Value\"]=datos[\"Value\"].astype(float)\n",
    "\n",
    "# Identify minimum / maximum\n",
    "maximo=datos[\"Value\"].max()\n",
    "print(maximo)\n",
    "nmax=len(datos.loc[datos['Value'] == maximo])\n",
    "print(nmax)\n",
    "datos[\"Proporcion\"]=(datos[\"Value\"])/maximo\n",
    "media=datos[\"Proporcion\"].mean()\n",
    "print(media)\n",
    "\n",
    "#calculate quartiles\n",
    "q1=datos[\"Proporcion\"].quantile(q=0.25)\n",
    "print(q1)\n",
    "q2=datos[\"Proporcion\"].quantile(q=0.50)\n",
    "print(q2)\n",
    "q3=datos[\"Proporcion\"].quantile(q=0.75)\n",
    "print(q3)\n",
    "q90=datos[\"Proporcion\"].quantile(q=0.90)\n",
    "print(q90)\n",
    "\n",
    "#Print results\n",
    "print(stats.percentileofscore(datos[\"Value\"],maximo-1))"
   ]
  },
  {
   "cell_type": "code",
   "execution_count": null,
   "metadata": {
    "collapsed": true
   },
   "outputs": [],
   "source": []
  }
 ],
 "metadata": {
  "kernelspec": {
   "display_name": "Python 3",
   "language": "python",
   "name": "python3"
  },
  "language_info": {
   "codemirror_mode": {
    "name": "ipython",
    "version": 3
   },
   "file_extension": ".py",
   "mimetype": "text/x-python",
   "name": "python",
   "nbconvert_exporter": "python",
   "pygments_lexer": "ipython3",
   "version": "3.6.4"
  }
 },
 "nbformat": 4,
 "nbformat_minor": 2
}
